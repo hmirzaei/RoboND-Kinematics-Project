{
 "cells": [
  {
   "cell_type": "code",
   "execution_count": null,
   "metadata": {},
   "outputs": [],
   "source": [
    "import numpy as np\n",
    "from numpy import array\n",
    "from sympy import symbols, cos, sin, pi, simplify, sqrt, atan2\n",
    "from sympy.matrices import Matrix\n",
    "import math"
   ]
  },
  {
   "cell_type": "code",
   "execution_count": null,
   "metadata": {},
   "outputs": [],
   "source": [
    "def euler_to_quat(roll, pitch, yaw):\n",
    "    cy = np.cos(yaw * 0.5)\n",
    "    sy = np.sin(yaw * 0.5)\n",
    "    cr = np.cos(roll * 0.5)\n",
    "    sr = np.sin(roll * 0.5)\n",
    "    cp = np.cos(pitch * 0.5)\n",
    "    sp = np.sin(pitch * 0.5)\n",
    "\n",
    "    qw = cy * cr * cp + sy * sr * sp\n",
    "    qx = cy * sr * cp - sy * cr * sp\n",
    "    qy = cy * cr * sp + sy * sr * cp\n",
    "    qz = sy * cr * cp - cy * sr * sp\n",
    "    return q\n",
    "\n",
    "def quat_to_euler(x, y, z, w):\n",
    "    ysqr = y * y\n",
    "     \n",
    "    t0 = +2.0 * (w * x + y * z)\n",
    "    t1 = +1.0 - 2.0 * (x * x + ysqr)\n",
    "    X =  math.atan2(t0, t1)\n",
    "     \n",
    "    t2 = +2.0 * (w * y - z * x)\n",
    "    t2 = -1.0 if t2 < -1.0 else t2\n",
    "    t2 =  1.0 if t2 >  1.0 else t2\n",
    "    Y = math.asin(t2)\n",
    "     \n",
    "    t3 = +2.0 * (w * z + x * y)\n",
    "    t4 = +1.0 - 2.0 * (ysqr + z * z)\n",
    "    Z = math.atan2(t3, t4)\n",
    "     \n",
    "    return X, Y, Z\n",
    "\n",
    "def quat_to_rot(qx, qy, qz, qw):\n",
    "    return np.array([[1 - 2*qy**2 - 2*qz**2 ,2*qx*qy - 2*qz*qw ,2*qx*qz + 2*qy*qw],\n",
    "            [2*qx*qy + 2*qz*qw ,1 - 2*qx**2 - 2*qz**2 ,2*qy*qz - 2*qx*qw],\n",
    "            [2*qx*qz - 2*qy*qw ,2*qy*qz + 2*qx*qw ,1 - 2*qx**2 - 2*qy**2]])\n"
   ]
  },
  {
   "cell_type": "markdown",
   "metadata": {},
   "source": [
    "#### ---------------------------------------------------------------------------------------------------------------------------------------------------------\n",
    "#### *Solve Forward kinematics*\n",
    "#### ---------------------------------------------------------------------------------------------------------------------------------------------------------\n"
   ]
  },
  {
   "cell_type": "code",
   "execution_count": null,
   "metadata": {},
   "outputs": [],
   "source": [
    "### symbols of joint variables\n",
    "q1, q2, q3, q4, q5, q6, q7 = symbols('q1:8') #theta_i\n",
    "d1, d2, d3, d4, d5, d6, d7 = symbols('d1:8')\n",
    "a0, a1, a2, a3, a4, a5, a6 = symbols('a0:7')\n",
    "alpha0, alpha1, alpha2, alpha3, alpha4, alpha5, alpha6 = symbols('alpha0:7')\n"
   ]
  },
  {
   "cell_type": "code",
   "execution_count": null,
   "metadata": {},
   "outputs": [],
   "source": [
    "# DH Parameters\n",
    "s = {alpha0:     0, a0:      0, d1:  0.75,\n",
    "     alpha1: -pi/2, a1:   0.35, d2:     0,   q2: q2 - pi/2,\n",
    "     alpha2:     0, a2:   1.25, d3:     0,\n",
    "     alpha3: -pi/2, a3: -0.054, d4:  1.50,\n",
    "     alpha4:  pi/2, a4:      0, d5:     0,\n",
    "     alpha5: -pi/2, a5:      0, d6:     0,\n",
    "     alpha6:     0, a6:      0, d7: 0.303,   q7: 0}"
   ]
  },
  {
   "cell_type": "code",
   "execution_count": null,
   "metadata": {},
   "outputs": [],
   "source": [
    "#### Homogeneous Transforms\n",
    "# base_link to link1\n",
    "T0_1 = Matrix([[             cos(q1),            -sin(q1),            0,              a0],\n",
    "               [ sin(q1)*cos(alpha0), cos(q1)*cos(alpha0), -sin(alpha0), -sin(alpha0)*d1],\n",
    "               [ sin(q1)*sin(alpha0), cos(q1)*sin(alpha0),  cos(alpha0),  cos(alpha0)*d1],\n",
    "               [                   0,                   0,            0,               1]])\n",
    "T0_1 = T0_1.subs(s)\n",
    "\n",
    "#link1 to link2\n",
    "T1_2 = Matrix([[             cos(q2),            -sin(q2),            0,              a1],\n",
    "               [ sin(q2)*cos(alpha1), cos(q2)*cos(alpha1), -sin(alpha1), -sin(alpha1)*d2],\n",
    "               [ sin(q2)*sin(alpha1), cos(q2)*sin(alpha1),  cos(alpha1),  cos(alpha1)*d2],\n",
    "               [                   0,                   0,            0,               1]])\n",
    "T1_2 = T1_2.subs(s)\n",
    "\n",
    "T2_3 = Matrix([[             cos(q3),            -sin(q3),            0,              a2],\n",
    "               [ sin(q3)*cos(alpha2), cos(q3)*cos(alpha2), -sin(alpha2), -sin(alpha2)*d3],\n",
    "               [ sin(q3)*sin(alpha2), cos(q3)*sin(alpha2),  cos(alpha2),  cos(alpha2)*d3],\n",
    "               [                   0,                   0,            0,               1]])\n",
    "T2_3 = T2_3.subs(s)\n",
    "\n",
    "T3_4 = Matrix([[             cos(q4),            -sin(q4),            0,              a3],\n",
    "               [ sin(q4)*cos(alpha3), cos(q4)*cos(alpha3), -sin(alpha3), -sin(alpha3)*d4],\n",
    "               [ sin(q4)*sin(alpha3), cos(q4)*sin(alpha3),  cos(alpha3),  cos(alpha3)*d4],\n",
    "               [                   0,                   0,            0,               1]])\n",
    "T3_4 = T3_4.subs(s)\n",
    "\n",
    "T4_5 = Matrix([[             cos(q5),            -sin(q5),            0,              a4],\n",
    "               [ sin(q5)*cos(alpha4), cos(q5)*cos(alpha4), -sin(alpha4), -sin(alpha4)*d5],\n",
    "               [ sin(q5)*sin(alpha4), cos(q5)*sin(alpha4),  cos(alpha4),  cos(alpha4)*d5],\n",
    "               [                   0,                   0,            0,               1]])\n",
    "T4_5 = T4_5.subs(s)\n",
    "\n",
    "T5_6 = Matrix([[             cos(q6),            -sin(q6),            0,              a5],\n",
    "               [ sin(q6)*cos(alpha5), cos(q6)*cos(alpha5), -sin(alpha5), -sin(alpha5)*d6],\n",
    "               [ sin(q6)*sin(alpha5), cos(q6)*sin(alpha5),  cos(alpha5),  cos(alpha5)*d6],\n",
    "               [                   0,                   0,            0,               1]])\n",
    "T5_6 = T5_6.subs(s)\n",
    "\n",
    "T6_G = Matrix([[             cos(q7),            -sin(q7),            0,              a6],\n",
    "               [ sin(q7)*cos(alpha6), cos(q7)*cos(alpha6), -sin(alpha6), -sin(alpha6)*d7],\n",
    "               [ sin(q7)*sin(alpha6), cos(q7)*sin(alpha6),  cos(alpha6),  cos(alpha6)*d7],\n",
    "               [                   0,                   0,            0,               1]])\n",
    "T6_G = T6_G.subs(s)"
   ]
  },
  {
   "cell_type": "code",
   "execution_count": null,
   "metadata": {},
   "outputs": [],
   "source": [
    "# Corerection rotation matrix for the difference between DH and urdf reference frames for the gripper link\n",
    "R_z = Matrix([[     cos(np.pi), -sin(np.pi),             0,   0],\n",
    "              [     sin(np.pi),  cos(np.pi),             0,   0],\n",
    "              [              0,           0,             1,   0],\n",
    "              [              0,           0,             0,   1]])\n",
    " \n",
    "R_y = Matrix([[  cos(-np.pi/2),           0, sin(-np.pi/2),   0],\n",
    "              [              0,           1,             0,   0],\n",
    "              [ -sin(-np.pi/2),           0, cos(-np.pi/2),   0],\n",
    "              [              0,           0,       0,         1]])\n",
    "R_corr = R_z * R_y"
   ]
  },
  {
   "cell_type": "code",
   "execution_count": null,
   "metadata": {},
   "outputs": [],
   "source": [
    "# Homogeneous transformation from base link to gripper frame \n",
    "T0_G = simplify(T0_1 * T1_2 * T2_3 * T3_4 * T4_5 * T5_6 * T6_G * R_corr)"
   ]
  },
  {
   "cell_type": "code",
   "execution_count": null,
   "metadata": {
    "scrolled": true
   },
   "outputs": [],
   "source": [
    "# first test case\n",
    "q1_v = -0.65\n",
    "q2_v = 0.45\n",
    "q3_v = -0.36\n",
    "q4_v = 0.95\n",
    "q5_v = 0.79\n",
    "q6_v = 0.49\n",
    "\n",
    "# substitute symbolic variables by test case values\n",
    "T0_G_val = T0_G.evalf(subs={q1: q1_v, q2: q2_v, q3: q3_v, q4: q4_v, q5: q5_v, q6: q6_v})\n",
    "T0_G_val = np.array(T0_G_val.tolist(), np.float)\n",
    "print(\"Transformation Matrix from base to end effector= \")\n",
    "print(T0_G_val)\n",
    "print()\n",
    "print(\"Translation = \", T0_G_val[:3,3])\n",
    "print(\"roll = \", np.arctan2(T0_G_val[2,1], T0_G_val[2,2])) #roll\n",
    "print(\"pitch = \", np.arctan2(-T0_G_val[2,0], np.sqrt(T0_G_val[0,0]**2 + T0_G_val[1,0]**2))) #pitch\n",
    "print(\"yaw = \",np.arctan2(T0_G_val[1,0], T0_G_val[0,0])) #yaw\n"
   ]
  },
  {
   "cell_type": "markdown",
   "metadata": {},
   "source": [
    "#### ---------------------------------------------------------------------------------------------------------------------------------------------------------\n",
    "#### *Solve Inverse kinematics*\n",
    "#### ---------------------------------------------------------------------------------------------------------------------------------------------------------\n"
   ]
  },
  {
   "cell_type": "code",
   "execution_count": null,
   "metadata": {},
   "outputs": [],
   "source": [
    "test_cases = {1:[[[2.16135,-1.42635,1.55109],\n",
    "                  [0.708611,0.186356,-0.157931,0.661967]],\n",
    "                  [1.89451,-1.44302,1.69366],\n",
    "                  [-0.65,0.45,-0.36,0.95,0.79,0.49]],\n",
    "              2:[[[-0.56754,0.93663,3.0038],\n",
    "                  [0.62073, 0.48318,0.38759,0.480629]],\n",
    "                  [-0.638,0.64198,2.9988],\n",
    "                  [-0.79,-0.11,-2.33,1.94,1.14,-3.68]],\n",
    "              3:[[[-1.3863,0.02074,0.90986],\n",
    "                  [0.01735,-0.2179,0.9025,0.371016]],\n",
    "                  [-1.1669,-0.17989,0.85137],\n",
    "                  [-2.99,-0.12,0.94,4.06,1.29,-4.12]],\n",
    "              4:[[[-0.569, 0.572, 3.384],\n",
    "                  [0.350, 0.842, 0.157, -0.378]],\n",
    "                  [-0.42701, 0.42965, 3.1575],\n",
    "                  [-0.788488, 0, -2.296801, 0, 0, 0]],\n",
    "              5:[[[2.153, 0.000, 1.947],\n",
    "                  [0.000, -0.000, 0.000, 1.000]],\n",
    "                  [1.8499, 0, 1.9464],\n",
    "                  [0,0,0,0,0,0]]}\n",
    "\n",
    "ind = 1\n",
    "joints = test_cases[ind][2]\n",
    "position = test_cases[ind][0][0]\n",
    "orientation   =  test_cases[ind][0][1]"
   ]
  },
  {
   "cell_type": "code",
   "execution_count": null,
   "metadata": {},
   "outputs": [],
   "source": [
    "R = quat_to_rot(*orientation)\n",
    "wc = position - (0.193 + 0.11) * R[:3,0]\n",
    "print(wc)"
   ]
  },
  {
   "cell_type": "code",
   "execution_count": null,
   "metadata": {},
   "outputs": [],
   "source": [
    "theta1 = np.arctan2(wc[1], wc[0])\n",
    "print(theta1)"
   ]
  },
  {
   "cell_type": "code",
   "execution_count": null,
   "metadata": {},
   "outputs": [],
   "source": [
    "wc_x = np.sqrt(wc[0]**2+wc[1]**2)\n",
    "wc_y = wc[2]\n",
    "\n",
    "l2_x = 0.35\n",
    "l2_y = 0.33 + 0.42\n",
    "\n",
    "l2_l3 = 1.25\n",
    "l2_wc = np.sqrt((wc_x - l2_x)**2 + (wc_y - l2_y)**2)\n",
    "l3_wc = np.sqrt((0.96+0.54)**2+0.054**2)"
   ]
  },
  {
   "cell_type": "code",
   "execution_count": null,
   "metadata": {},
   "outputs": [],
   "source": [
    "theta2 = np.pi/2 - np.arctan2(wc_y - l2_y, wc_x - l2_x) - np.arccos((l2_wc**2+l2_l3**2-l3_wc**2)/(2*l2_wc*l2_l3))\n",
    "print(theta2)"
   ]
  },
  {
   "cell_type": "code",
   "execution_count": null,
   "metadata": {},
   "outputs": [],
   "source": [
    "theta3 = np.pi/2 - np.arctan2(0.054, 0.96+0.54) \\\n",
    "    - np.arccos((l3_wc**2+l2_l3**2-l2_wc**2)/(2*l3_wc*l2_l3))\n",
    "print(theta3)"
   ]
  },
  {
   "cell_type": "code",
   "execution_count": null,
   "metadata": {},
   "outputs": [],
   "source": [
    "R_z = Matrix([[   np.cos(theta1),-np.sin(theta1),             0],\n",
    "              [   np.sin(theta1), np.cos(theta1),             0],\n",
    "              [             0,           0,             1]])\n",
    "\n",
    "R_y =  Matrix([[  np.cos(theta2+theta3),           0, np.sin(theta2+theta3)],\n",
    "                 [              0,           1,             0],\n",
    "                 [ -np.sin(theta2+theta3),           0, np.cos(theta2+theta3)]])\n",
    "\n",
    "R_b3 = np.array((R_z * R_y).tolist(), np.float)\n",
    "print(R_b3)"
   ]
  },
  {
   "cell_type": "code",
   "execution_count": null,
   "metadata": {},
   "outputs": [],
   "source": [
    "R_x1 = Matrix([[   1,        0,        0],\n",
    "               [   0,  cos(q4), -sin(q4)],\n",
    "               [   0,  sin(q4),  cos(q4)]])\n",
    "\n",
    "R_y =  Matrix([[  cos(q5),           0, sin(q5)],\n",
    "               [        0,           1,       0],\n",
    "               [ -sin(q5),           0, cos(q5)]])\n",
    "\n",
    "R_x2 = Matrix([[   1,        0,        0],\n",
    "               [   0,  cos(q6), -sin(q6)],\n",
    "               [   0,  sin(q6),  cos(q6)]])\n",
    "\n",
    "\n",
    "R = simplify(R_x1 * R_y * R_x2)\n",
    "R"
   ]
  },
  {
   "cell_type": "code",
   "execution_count": null,
   "metadata": {},
   "outputs": [],
   "source": [
    "R_n = np.array((Matrix(R_b3).T * Matrix(quat_to_rot(*orientation))).tolist(), float)\n",
    "R_n"
   ]
  },
  {
   "cell_type": "code",
   "execution_count": null,
   "metadata": {},
   "outputs": [],
   "source": [
    "theta5 = np.arctan2(np.sqrt(R_n[1, 0] ** 2 + R_n[2, 0] ** 2), R_n[0, 0])\n",
    "print(theta5)"
   ]
  },
  {
   "cell_type": "code",
   "execution_count": null,
   "metadata": {},
   "outputs": [],
   "source": [
    "theta6 = np.arctan2(R_n[0,1], R_n[0,2])\n",
    "print(theta6)"
   ]
  },
  {
   "cell_type": "code",
   "execution_count": null,
   "metadata": {},
   "outputs": [],
   "source": [
    "theta4 = np.arctan2(R_n[1, 0], -R_n[2, 0])\n",
    "print(theta4)"
   ]
  },
  {
   "cell_type": "code",
   "execution_count": null,
   "metadata": {},
   "outputs": [],
   "source": [
    "[theta1, theta2, theta3, theta4, theta5, theta6]"
   ]
  },
  {
   "cell_type": "code",
   "execution_count": null,
   "metadata": {},
   "outputs": [],
   "source": [
    "joints"
   ]
  }
 ],
 "metadata": {
  "kernelspec": {
   "display_name": "Python [default]",
   "language": "python",
   "name": "python3"
  },
  "language_info": {
   "codemirror_mode": {
    "name": "ipython",
    "version": 3
   },
   "file_extension": ".py",
   "mimetype": "text/x-python",
   "name": "python",
   "nbconvert_exporter": "python",
   "pygments_lexer": "ipython3",
   "version": "3.5.2"
  },
  "widgets": {
   "state": {},
   "version": "1.1.2"
  }
 },
 "nbformat": 4,
 "nbformat_minor": 2
}
